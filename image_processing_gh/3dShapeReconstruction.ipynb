{
 "cells": [
  {
   "cell_type": "code",
   "execution_count": 1,
   "metadata": {},
   "outputs": [
    {
     "data": {
      "text/plain": [
       "['/Users/mayra.ruiz/anaconda3/envs/py36/lib/python36.zip',\n",
       " '/Users/mayra.ruiz/anaconda3/envs/py36/lib/python3.6',\n",
       " '/Users/mayra.ruiz/anaconda3/envs/py36/lib/python3.6/lib-dynload',\n",
       " '',\n",
       " '/Users/mayra.ruiz/anaconda3/envs/py36/lib/python3.6/site-packages',\n",
       " '/Users/mayra.ruiz/anaconda3/envs/py36/lib/python3.6/site-packages/IPython/extensions',\n",
       " '/Users/mayra.ruiz/.ipython',\n",
       " '/Users/mayra.ruiz/.virtualenvs/cv/lib/python3.6/site-packages']"
      ]
     },
     "execution_count": 1,
     "metadata": {},
     "output_type": "execute_result"
    }
   ],
   "source": [
    "import os, sys\n",
    "module_path = os.path.abspath(os.path.join('/Users/mayra.ruiz/.virtualenvs/cv/lib/python3.6/site-packages/'))\n",
    "if module_path not in sys.path:\n",
    "    sys.path.append(module_path)\n",
    "    \n",
    "os.sys.path #had to add some libraries to the path separately as I did not install them with conda"
   ]
  },
  {
   "cell_type": "code",
   "execution_count": 2,
   "metadata": {},
   "outputs": [],
   "source": [
    "import cv2 as cv\n",
    "import numpy as np\n",
    "from matplotlib import pyplot as plt\n",
    "import scipy\n",
    "from scipy import array, misc\n",
    "from mayavi import mlab\n",
    "import glob\n",
    "import scipy.ndimage"
   ]
  },
  {
   "cell_type": "code",
   "execution_count": 3,
   "metadata": {},
   "outputs": [],
   "source": [
    "###Resizing and thresholding (This might be useful later)\n",
    "\n",
    "#img = cv.imread(\"/Volumes/ScialdoneLab10TB/Data/Jovica/Klara12April2018Br4wSkullSagittalR/130Color.tif\", 0)\n",
    "\n",
    "#Image thresholding\n",
    "#ret,thresh1 = cv.threshold(img,50,255,cv.THRESH_BINARY) #to get only the shape of the tissue in a binary image\n",
    "\n",
    "#Resize (2 different ways)\n",
    "#resized = cv.resize(img,(1000,1000)) \n",
    "#resized = cv.resize(img, (0,0), fx=0.5, fy=0.5) \n",
    "\n",
    "\n",
    "#cv.imshow('image',resized)\n",
    "#k = cv.waitKey(0)\n",
    "#if k == 27:         # wait for ESC key to exit\n",
    "#   cv.destroyAllWindows()\n",
    "\n",
    "#resized.shape"
   ]
  },
  {
   "cell_type": "code",
   "execution_count": 4,
   "metadata": {},
   "outputs": [],
   "source": [
    "## 3d Shape reconstruction from slices images\n",
    "\n",
    "B = [] #B for brain\n",
    "path = \"./BrainSagitalAxis/\" #path to folder with images (.tif images)\n",
    "extension = \"Color.tif\" #Names of images I'm using end in \"Color.tif\"\n",
    "\n",
    "\n",
    "tif_files = [f for f in os.listdir(path) if f.endswith(extension)] #List of image files\n",
    "\n",
    "\n",
    "# Load all the images to list M\n",
    "for filepath in tif_files:\n",
    "    B.append(cv.imread('./BrainSagitalAxis/{0}'.format(filepath),0))\n",
    "\n",
    "#print(type(M[0]))\n",
    "brain_sagital = np.dstack(B) #Stack images together in 3D matrix\n",
    "\n",
    "#vol_mlab = mlab.pipeline.volume(mlab.pipeline.scalar_field(brain_sagital))\n",
    "#mlab.colorbar()\n",
    "#mlab.show()\n",
    "brain_sagital.shape"
   ]
  },
  {
   "cell_type": "code",
   "execution_count": 14,
   "metadata": {},
   "outputs": [],
   "source": [
    "## Rotate 3d shape\n",
    "# 40 is the number of degrees the figure will be rotated (just as an example) \n",
    "# axes are the axes that will be rotated (combinations of 2 numbers between 0 and 2) \n",
    "rotated = scipy.ndimage.interpolation.rotate(brain_sagital, 40, axes=(0, 2))\n",
    "rotated.shape"
   ]
  },
  {
   "cell_type": "code",
   "execution_count": 8,
   "metadata": {},
   "outputs": [],
   "source": [
    "#Vosualize original shape\n",
    "vol_mlab = mlab.pipeline.volume(mlab.pipeline.scalar_field(brain_sagital))\n",
    "mlab.colorbar()\n",
    "mlab.show()\n"
   ]
  },
  {
   "cell_type": "code",
   "execution_count": 15,
   "metadata": {},
   "outputs": [],
   "source": [
    "#Visualize rotated shape\n",
    "vol_mlab = mlab.pipeline.volume(mlab.pipeline.scalar_field(rotated))\n",
    "mlab.colorbar()\n",
    "mlab.show()"
   ]
  },
  {
   "cell_type": "code",
   "execution_count": 12,
   "metadata": {},
   "outputs": [
    {
     "data": {
      "text/plain": [
       "(1413, 1413, 239)"
      ]
     },
     "execution_count": 12,
     "metadata": {},
     "output_type": "execute_result"
    }
   ],
   "source": [
    "# OUR MISSION NOW: Slice rotated shape in certain number of slices or slices of some specific thickness"
   ]
  },
  {
   "cell_type": "code",
   "execution_count": 16,
   "metadata": {},
   "outputs": [
    {
     "data": {
      "text/plain": [
       "(1002, 1004, 239)"
      ]
     },
     "execution_count": 16,
     "metadata": {},
     "output_type": "execute_result"
    }
   ],
   "source": []
  },
  {
   "cell_type": "code",
   "execution_count": null,
   "metadata": {},
   "outputs": [],
   "source": []
  }
 ],
 "metadata": {
  "kernelspec": {
   "display_name": "Python 3",
   "language": "python",
   "name": "python3"
  },
  "language_info": {
   "codemirror_mode": {
    "name": "ipython",
    "version": 3
   },
   "file_extension": ".py",
   "mimetype": "text/x-python",
   "name": "python",
   "nbconvert_exporter": "python",
   "pygments_lexer": "ipython3",
   "version": "3.6.8"
  }
 },
 "nbformat": 4,
 "nbformat_minor": 2
}
